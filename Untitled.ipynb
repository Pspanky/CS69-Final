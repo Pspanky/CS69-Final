{
 "cells": [
  {
   "cell_type": "markdown",
   "metadata": {},
   "source": [
    "## Classifying Democratic vs Republican Tweets\n",
    "### COSC 69 project "
   ]
  },
  {
   "cell_type": "markdown",
   "metadata": {},
   "source": [
    "### Description\n",
    "\n",
    "Twitter is a popular online platform for expressing thoughts and opinions, and is used by a wide range of individuals, from normal citizens, to important celebrities and political figures. In particular, many US government representatives use twitter as an additional platform to express their political opinions. My goal is to be able to identify the political affiliation of a user, based on the contents of their tweet. "
   ]
  },
  {
   "cell_type": "markdown",
   "metadata": {},
   "source": [
    "### Dataset\n",
    "\n",
    "I will be using the kaggle dataset from https://www.kaggle.com/kapastor/democratvsrepublicantweets. \n",
    "\n",
    "It contains a list of almost all people in the US house of representatives, their political affiliation (democrat or republican), their twitter username, and finally, the 200 most recent tweets from their twitter account. "
   ]
  },
  {
   "cell_type": "markdown",
   "metadata": {},
   "source": [
    "### Questions\n",
    "The most obvious questions will be which features we can extract from these tweets in order to make our task of classification easier. \n",
    "\n",
    "Some of the questions which I hope to address in this process will be:\n",
    "\n",
    "1. Is there a difference in the way language is used by representatives of different political parties?\n",
    "2. Are certain topics discussed by representatives of different political parties more or less often?\n",
    "3. Is the sentiment associated with certain topics different depending on the user's political affiliation?"
   ]
  },
  {
   "cell_type": "markdown",
   "metadata": {},
   "source": [
    "### Previous Work\n",
    "\n",
    "I'll be referring to the paper http://www.aclweb.org/anthology/W17-0210 which provides an overview of extracting topic from short tweets, as traditional techniques for topic extraction are not always effective when applied to short tweets. \n",
    "\n",
    "I'll also be attempting to implement a word list as described by https://arxiv.org/pdf/1103.2903.pdf, in order to hopefully increase the accuracy of my sentiment analysis.\n"
   ]
  },
  {
   "cell_type": "markdown",
   "metadata": {},
   "source": [
    "### Goal\n",
    "\n",
    "Ultimately, I wish to extract a variety of features from the tweets in the datasets, most notably topics and sentiment analysis. My suspicion is that a feature composed of what topic a tweet is about, and what sentiment is expressed about said topic would indicate . Once I have done this, I intend to train a couple of classifiers in order to predict the political affiliation of a certain tweet. "
   ]
  }
 ],
 "metadata": {
  "kernelspec": {
   "display_name": "Python 3",
   "language": "python",
   "name": "python3"
  },
  "language_info": {
   "codemirror_mode": {
    "name": "ipython",
    "version": 3
   },
   "file_extension": ".py",
   "mimetype": "text/x-python",
   "name": "python",
   "nbconvert_exporter": "python",
   "pygments_lexer": "ipython3",
   "version": "3.6.0"
  }
 },
 "nbformat": 4,
 "nbformat_minor": 2
}
